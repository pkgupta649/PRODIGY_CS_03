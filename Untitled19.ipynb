{
  "nbformat": 4,
  "nbformat_minor": 0,
  "metadata": {
    "colab": {
      "provenance": []
    },
    "kernelspec": {
      "name": "python3",
      "display_name": "Python 3"
    },
    "language_info": {
      "name": "python"
    }
  },
  "cells": [
    {
      "cell_type": "code",
      "execution_count": null,
      "metadata": {
        "id": "GLYMMeDLiVhZ"
      },
      "outputs": [],
      "source": [
        "from PIL import Image\n",
        "import numpy as np\n",
        "\n",
        "# Load the image\n",
        "image_path = \"/content/FB_IMG_15691204555004944.jpg\"  # Replace with the actual path to your image\n",
        "img = Image.open(image_path)\n",
        "\n",
        "# Convert the image to a numpy array\n",
        "img_array = np.array(img)\n",
        "\n",
        "# Define a simple encryption function\n",
        "def encrypt_image(image_array):\n",
        "    # Perform basic pixel manipulation, for example, swapping pixel values\n",
        "    encrypted_image_array = np.fliplr(image_array)\n",
        "    return encrypted_image_array\n",
        "\n",
        "# Define a simple decryption function\n",
        "def decrypt_image(encrypted_array):\n",
        "    # Reverse the encryption process\n",
        "    decrypted_image_array = np.fliplr(encrypted_array)\n",
        "    return decrypted_image_array\n",
        "\n",
        "# Encrypt the image\n",
        "encrypted_img_array = encrypt_image(img_array)\n",
        "\n",
        "# Convert the encrypted array back to an image\n",
        "encrypted_img = Image.fromarray(encrypted_img_array)\n",
        "encrypted_img.save(\"encrypted_image.jpg\")  # Save the encrypted image\n",
        "\n",
        "# Decrypt the image\n",
        "decrypted_img_array = decrypt_image(encrypted_img_array)\n",
        "\n",
        "# Convert the decrypted array back to an image\n",
        "decrypted_img = Image.fromarray(decrypted_img_array)\n",
        "decrypted_img.save(\"decrypted_image.jpg\")  # Save the decrypted image\n",
        "\n"
      ]
    }
  ]
}